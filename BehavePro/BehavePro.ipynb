{
 "cells": [
  {
   "cell_type": "markdown",
   "id": "0bf7a401-80fd-4949-9291-d957efd8fa52",
   "metadata": {
    "tags": []
   },
   "source": [
    "# *BehavePro*\n",
    "---\n",
    "Generates figures for entire folders of behaviour data\n",
    "\n",
    "now in blind and unblind fashion"
   ]
  },
  {
   "cell_type": "code",
   "execution_count": 6,
   "id": "fe361fea-1925-40ca-8c8a-441e35fbd9c5",
   "metadata": {
    "tags": []
   },
   "outputs": [],
   "source": [
    "#import everything and set dpi here\n",
    "\n",
    "import os\n",
    "import numpy as np\n",
    "import pandas as pd \n",
    "import matplotlib.pyplot as plt\n",
    "import seaborn as sns\n",
    "import matplotlib as mpl\n",
    "mpl.rcParams['figure.dpi'] = 100 #set dpi for viewing figs within the notebook\n",
    "from tqdm import tqdm"
   ]
  },
  {
   "cell_type": "markdown",
   "id": "64b424e3-dfd4-4844-80ec-1c75529fe2c3",
   "metadata": {
    "tags": []
   },
   "source": [
    "### Load the infotable"
   ]
  },
  {
   "cell_type": "code",
   "execution_count": 2,
   "id": "070c384b-49b5-4b12-b9c7-340326711abb",
   "metadata": {},
   "outputs": [
    {
     "data": {
      "text/html": [
       "<div>\n",
       "<style scoped>\n",
       "    .dataframe tbody tr th:only-of-type {\n",
       "        vertical-align: middle;\n",
       "    }\n",
       "\n",
       "    .dataframe tbody tr th {\n",
       "        vertical-align: top;\n",
       "    }\n",
       "\n",
       "    .dataframe thead th {\n",
       "        text-align: right;\n",
       "    }\n",
       "</style>\n",
       "<table border=\"1\" class=\"dataframe\">\n",
       "  <thead>\n",
       "    <tr style=\"text-align: right;\">\n",
       "      <th></th>\n",
       "      <th>name</th>\n",
       "      <th>type</th>\n",
       "      <th>BlindID</th>\n",
       "      <th>MouseID</th>\n",
       "      <th>Type</th>\n",
       "      <th>Day</th>\n",
       "      <th>Trial</th>\n",
       "      <th>stimdur</th>\n",
       "      <th>Total</th>\n",
       "      <th>startf</th>\n",
       "      <th>endf</th>\n",
       "      <th>trunc end</th>\n",
       "      <th>ethofile</th>\n",
       "    </tr>\n",
       "  </thead>\n",
       "  <tbody>\n",
       "    <tr>\n",
       "      <th>0</th>\n",
       "      <td>Tr1n04</td>\n",
       "      <td>standard</td>\n",
       "      <td>M4</td>\n",
       "      <td>BLIND</td>\n",
       "      <td>Chronos</td>\n",
       "      <td>4</td>\n",
       "      <td>1</td>\n",
       "      <td>30</td>\n",
       "      <td>37924</td>\n",
       "      <td>922</td>\n",
       "      <td>37924</td>\n",
       "      <td>0</td>\n",
       "      <td>Hardware-Nov1623_EsrStimD4-Trial     1-Arena 1</td>\n",
       "    </tr>\n",
       "    <tr>\n",
       "      <th>1</th>\n",
       "      <td>Tr2n02</td>\n",
       "      <td>standard</td>\n",
       "      <td>M2</td>\n",
       "      <td>BLIND</td>\n",
       "      <td>Chronos</td>\n",
       "      <td>4</td>\n",
       "      <td>2</td>\n",
       "      <td>30</td>\n",
       "      <td>38448</td>\n",
       "      <td>1341</td>\n",
       "      <td>38448</td>\n",
       "      <td>0</td>\n",
       "      <td>Hardware-Nov1623_EsrStimD4-Trial     2-Arena 1</td>\n",
       "    </tr>\n",
       "    <tr>\n",
       "      <th>2</th>\n",
       "      <td>Tr3n05</td>\n",
       "      <td>standard</td>\n",
       "      <td>M5</td>\n",
       "      <td>BLIND</td>\n",
       "      <td>Chronos</td>\n",
       "      <td>4</td>\n",
       "      <td>3</td>\n",
       "      <td>30</td>\n",
       "      <td>38160</td>\n",
       "      <td>1129</td>\n",
       "      <td>38160</td>\n",
       "      <td>0</td>\n",
       "      <td>Hardware-Nov1623_EsrStimD4-Trial     3-Arena 1</td>\n",
       "    </tr>\n",
       "    <tr>\n",
       "      <th>3</th>\n",
       "      <td>Tr4n03</td>\n",
       "      <td>standard</td>\n",
       "      <td>M3</td>\n",
       "      <td>BLIND</td>\n",
       "      <td>Chronos</td>\n",
       "      <td>4</td>\n",
       "      <td>4</td>\n",
       "      <td>30</td>\n",
       "      <td>38431</td>\n",
       "      <td>1051</td>\n",
       "      <td>38431</td>\n",
       "      <td>0</td>\n",
       "      <td>Hardware-Nov1623_EsrStimD4-Trial     4-Arena 1</td>\n",
       "    </tr>\n",
       "    <tr>\n",
       "      <th>4</th>\n",
       "      <td>Tr5n01</td>\n",
       "      <td>standard</td>\n",
       "      <td>M1</td>\n",
       "      <td>BLIND</td>\n",
       "      <td>Chronos</td>\n",
       "      <td>4</td>\n",
       "      <td>5</td>\n",
       "      <td>30</td>\n",
       "      <td>38440</td>\n",
       "      <td>807</td>\n",
       "      <td>38440</td>\n",
       "      <td>0</td>\n",
       "      <td>Hardware-Nov1623_EsrStimD4-Trial     5-Arena 1</td>\n",
       "    </tr>\n",
       "  </tbody>\n",
       "</table>\n",
       "</div>"
      ],
      "text/plain": [
       "     name      type BlindID MouseID     Type  Day  Trial  stimdur  Total  \\\n",
       "0  Tr1n04  standard      M4   BLIND  Chronos    4      1       30  37924   \n",
       "1  Tr2n02  standard      M2   BLIND  Chronos    4      2       30  38448   \n",
       "2  Tr3n05  standard      M5   BLIND  Chronos    4      3       30  38160   \n",
       "3  Tr4n03  standard      M3   BLIND  Chronos    4      4       30  38431   \n",
       "4  Tr5n01  standard      M1   BLIND  Chronos    4      5       30  38440   \n",
       "\n",
       "   startf   endf  trunc end                                        ethofile  \n",
       "0     922  37924          0  Hardware-Nov1623_EsrStimD4-Trial     1-Arena 1  \n",
       "1    1341  38448          0  Hardware-Nov1623_EsrStimD4-Trial     2-Arena 1  \n",
       "2    1129  38160          0  Hardware-Nov1623_EsrStimD4-Trial     3-Arena 1  \n",
       "3    1051  38431          0  Hardware-Nov1623_EsrStimD4-Trial     4-Arena 1  \n",
       "4     807  38440          0  Hardware-Nov1623_EsrStimD4-Trial     5-Arena 1  "
      ]
     },
     "execution_count": 2,
     "metadata": {},
     "output_type": "execute_result"
    }
   ],
   "source": [
    "directory = r\"C:/Users/njana/Desktop/Behavior/Esr1ChronosStim/Day 4/\" # include / at end\n",
    "infofile = directory+\"deets.csv\"\n",
    "infotable = pd.read_csv(infofile)\n",
    "archive_name = \"May1523_MeAeffStim\"\n",
    "\n",
    "infotable"
   ]
  },
  {
   "cell_type": "markdown",
   "id": "08ca77e9-5755-4be6-9eec-73aa0a3ce20a",
   "metadata": {},
   "source": [
    "### Archive data into ```hdf5``` for unblinding"
   ]
  },
  {
   "cell_type": "code",
   "execution_count": 6,
   "id": "0537f8c9-9879-4d9a-8f6c-9964e005c1e0",
   "metadata": {
    "jupyter": {
     "source_hidden": true
    },
    "tags": []
   },
   "outputs": [
    {
     "name": "stderr",
     "output_type": "stream",
     "text": [
      "C:\\Users\\njana\\AppData\\Local\\Temp\\ipykernel_6184\\1054319239.py:58: PerformanceWarning: \n",
      "your performance may suffer as PyTables will pickle object types that it cannot\n",
      "map directly to c-types [inferred_type->mixed,key->block2_values] [items->Index(['name', 'type', 'MouseID', 'Type', 'ethofile', 'behavior_traces',\n",
      "       'stimulus_traces'],\n",
      "      dtype='object')]\n",
      "\n",
      "  archive.to_hdf(directory+archive_name+\"_Blind_archive.h5\", 'data' ,complevel = 0)\n"
     ]
    }
   ],
   "source": [
    "''' archive data '''\n",
    "\n",
    "behav_data = []\n",
    "stim_data = []\n",
    "\n",
    "for i in tqdm(range(infotable.shape[0])):\n",
    "    #get the data\n",
    "    simbarawdata = pd.read_csv(directory+infotable.name[i]+\".csv\", header = 0)\n",
    "\n",
    "    behavdata = simbarawdata[[\"Probability_Aggression\",\"Aggression\",\t\n",
    "                            \"Probability_Mounting\",\t\"Mounting\", \n",
    "                            \"Probability_Following\",\t\"Following\",\t\n",
    "                            \"Probability_Dominate\",\t\"Dominate\",\t\n",
    "                            \"Probability_Social_Contact\",\t\"Social_Contact\",\t\n",
    "                            \"Probability_Asocial\",\t\"Asocial\",\t\n",
    "                            \"Probability_Passive\",\t\"Passive\",\t\n",
    "                            \"Probability_Rest_Move\",\t\"Rest_Move\"]]\n",
    "    \n",
    "    ethoexportpath = directory+infotable.ethofile[i]+\".txt\"\n",
    "    ethoexport = pd.read_csv(ethoexportpath, sep = ';', header = 37)#, encoding='UTF-16le') # so stupid that this works but it does #if issue with UTF-8, use 16le\n",
    "\n",
    "    input1 = ethoexport.loc[ethoexport[\"Name\"] == \"Is input 1 High\"]\n",
    "    input1high = input1.loc[input1[\"Value\"] == 1]\n",
    "    input1 = input1.drop(columns = ['Trial time', 'Device', 'Command/Signal', 'Unnamed: 6'])\n",
    "    input1high = input1high.drop(columns = ['Trial time', 'Device', 'Command/Signal', 'Unnamed: 6'])\n",
    "\n",
    "    input2 = ethoexport.loc[ethoexport[\"Name\"] == \"Is input 2 High\"]\n",
    "    input2high = input2.loc[input2[\"Value\"] == 1]\n",
    "    input2 = input2.drop(columns = ['Trial time', 'Device', 'Command/Signal', 'Unnamed: 6'])\n",
    "    input2high = input2high.drop(columns = ['Trial time', 'Device', 'Command/Signal', 'Unnamed: 6'])\n",
    "    \n",
    "    stimtimes = input2high[\"Recording time\"].to_numpy()\n",
    "    stimtimes = np.asarray(stimtimes, dtype=float)\n",
    "\n",
    "    truncated = infotable.startf[i]\n",
    "    fps = 30\n",
    "    timetrunc = truncated/fps\n",
    "    stimtimes = stimtimes - timetrunc\n",
    "    \n",
    "    stimstartidx = np.around(stimtimes*fps).astype(\"int\")\n",
    "\n",
    "    stimdur = infotable.stimdur[i] #in seconds\n",
    "    stimidxdur = stimdur*fps\n",
    "    stimendidx = stimstartidx + stimidxdur\n",
    "\n",
    "    stim = np.zeros(behavdata[behavdata.columns[0]].shape[0])\n",
    "\n",
    "    for j in range(stimstartidx.shape[0]):\n",
    "        stim[stimstartidx[j]:stimendidx[j]] = 1\n",
    "        \n",
    "    behav_data += [behavdata]\n",
    "    stim_data += [stim]\n",
    "\n",
    "archive = infotable\n",
    "archive['behavior_traces'] = behav_data\n",
    "archive['stimulus_traces'] = stim_data\n",
    "\n",
    "archive.to_hdf(directory+archive_name+\"_Blind_archive.h5\", 'data' ,complevel = 0)"
   ]
  },
  {
   "cell_type": "markdown",
   "id": "aef2c5de-ab6d-4aad-a85b-605de02b23a8",
   "metadata": {},
   "source": [
    "### Plot behavior traces with averages"
   ]
  },
  {
   "cell_type": "code",
   "execution_count": 16,
   "id": "c4d482fe-d735-4645-b3dc-789ec0573996",
   "metadata": {},
   "outputs": [
    {
     "name": "stderr",
     "output_type": "stream",
     "text": [
      "100%|████████████████████████████████████████████████████████████████████████████████████| 5/5 [00:17<00:00,  3.41s/it]\n"
     ]
    },
    {
     "data": {
      "text/plain": [
       "<Figure size 1600x800 with 0 Axes>"
      ]
     },
     "metadata": {},
     "output_type": "display_data"
    },
    {
     "data": {
      "text/plain": [
       "<Figure size 1600x800 with 0 Axes>"
      ]
     },
     "metadata": {},
     "output_type": "display_data"
    },
    {
     "data": {
      "text/plain": [
       "<Figure size 1600x800 with 0 Axes>"
      ]
     },
     "metadata": {},
     "output_type": "display_data"
    },
    {
     "data": {
      "text/plain": [
       "<Figure size 1600x800 with 0 Axes>"
      ]
     },
     "metadata": {},
     "output_type": "display_data"
    },
    {
     "data": {
      "text/plain": [
       "<Figure size 1600x800 with 0 Axes>"
      ]
     },
     "metadata": {},
     "output_type": "display_data"
    }
   ],
   "source": [
    "''' Plot with Averages''' \n",
    "\n",
    "#for i in range(1):\n",
    "for i in tqdm(range(infotable.shape[0])):\n",
    "    #get the data\n",
    "    simbarawdata = pd.read_csv(directory+infotable.name[i]+\".csv\", header = 0)\n",
    "\n",
    "    behavdata = simbarawdata[[\"Probability_Aggression\",\"Aggression\",\t\n",
    "                            \"Probability_Mounting\",\t\"Mounting\", \n",
    "                            \"Probability_Following\",\t\"Following\",\t\n",
    "                            \"Probability_Dominate\",\t\"Dominate\",\t\n",
    "                            \"Probability_Social_Contact\",\t\"Social_Contact\",\t\n",
    "                            \"Probability_Asocial\",\t\"Asocial\",\t\n",
    "                            \"Probability_Passive\",\t\"Passive\",\t\n",
    "                            \"Probability_Rest_Move\",\t\"Rest_Move\"]]\n",
    "    \n",
    "    ethoexportpath = directory+infotable.ethofile[i]+\".txt\"\n",
    "    ethoexport = pd.read_csv(ethoexportpath, sep = ';', header = 37)#, encoding='UTF-16le') # so stupid that this works but it does #if issue with UTF-8, use 16le\n",
    "\n",
    "    input1 = ethoexport.loc[ethoexport[\"Name\"] == \"Is input 1 High\"]\n",
    "    input1high = input1.loc[input1[\"Value\"] == 1]\n",
    "    input1 = input1.drop(columns = ['Trial time', 'Device', 'Command/Signal', 'Unnamed: 6'])\n",
    "    input1high = input1high.drop(columns = ['Trial time', 'Device', 'Command/Signal', 'Unnamed: 6'])\n",
    "\n",
    "    input2 = ethoexport.loc[ethoexport[\"Name\"] == \"Is input 2 High\"]\n",
    "    input2high = input2.loc[input2[\"Value\"] == 1]\n",
    "    input2 = input2.drop(columns = ['Trial time', 'Device', 'Command/Signal', 'Unnamed: 6'])\n",
    "    input2high = input2high.drop(columns = ['Trial time', 'Device', 'Command/Signal', 'Unnamed: 6'])\n",
    "    \n",
    "    stimtimes = input2high[\"Recording time\"].to_numpy()\n",
    "    stimtimes = np.asarray(stimtimes, dtype=float)\n",
    "\n",
    "    truncated = infotable.startf[i]\n",
    "    fps = 30\n",
    "    timetrunc = truncated/fps\n",
    "    stimtimes = stimtimes - timetrunc\n",
    "    \n",
    "    stimstartidx = np.around(stimtimes*fps).astype(\"int\")\n",
    "\n",
    "    stimdur = infotable.stimdur[i] #in seconds\n",
    "    stimidxdur = stimdur*fps\n",
    "    stimendidx = stimstartidx + stimidxdur\n",
    "\n",
    "    stim = np.zeros(behavdata[behavdata.columns[0]].shape[0])\n",
    "\n",
    "    for j in range(stimstartidx.shape[0]):\n",
    "        stim[stimstartidx[j]:stimendidx[j]] = 1\n",
    "    \n",
    "    BlindID = str(infotable.BlindID[i])\n",
    "    MouseID = str(infotable.MouseID[i])\n",
    "    Type = str(infotable.Type[i])        \n",
    "    day = str(infotable.Day[i])\n",
    "    trial = str(infotable.Trial[i])\n",
    "    time = np.arange(0,behavdata[behavdata.columns[0]].shape[0])/fps\n",
    "    avgtime = np.arange(0,stimdur*3*fps)/fps\n",
    "\n",
    "    \n",
    "    colors = [\"red\",\"brown\",\"orange\",\"purple\",\"green\",\"turquoise\",\"black\",\"sandybrown\"]\n",
    "    sns.set_style(\"ticks\")\n",
    "\n",
    "    #plt.subplots(9,2,gridspec_kw={'width_ratios': [time.shape[0],stimdur*fps*3]})\n",
    "    plt.subplots(9,2,gridspec_kw={'width_ratios': [5,1]}) #15,1\n",
    "    #plt.subplots_adjust(hspace=0)\n",
    "    plt.subplots_adjust(wspace=0)\n",
    "\n",
    "\n",
    "    plt.subplot(9,2,1)\n",
    "    plt.plot(time,stim, color = 'blue')\n",
    "    plt.ylabel(\"Stimulus\", color = 'blue')\n",
    "    plt.gca().set_xticks([]) \n",
    "    plt.gca().set_yticks([])\n",
    "    \n",
    "    plt.subplot(9,2,2)\n",
    "    plt.plot(avgtime,stim[stimstartidx[0]-(stimdur*fps):stimstartidx[0]+(stimdur*fps*2)], color = 'blue')\n",
    "    plt.gca().set_xticks([]) \n",
    "    plt.gca().set_yticks([])\n",
    "    \n",
    "    counter = 0\n",
    "    plotnum = 3\n",
    "\n",
    "    for k in range(8):\n",
    "        \n",
    "        plt.subplot(9,2,plotnum)\n",
    "        plt.plot(time,behavdata[behavdata.columns[counter]],  color = colors[k], alpha = 0.3)\n",
    "        counter += 1\n",
    "        \n",
    "        plt.plot(time,behavdata[behavdata.columns[counter]], color = colors[k], alpha = 1)\n",
    "        plt.ylabel(behavdata.columns[counter], color = colors[k])\n",
    "        if plotnum < 17:\n",
    "            plt.gca().set_xticks([])\n",
    "        else:\n",
    "            plt.gca().set_xticks(np.arange(min(time), max(time)+1, 300), labels = np.arange(min(time), max(time)+1, 300).astype(int))\n",
    "        plt.gca().set_yticks([])\n",
    "        sns.despine(bottom = True, left = True)\n",
    "        plotnum += 1\n",
    "        \n",
    "        plt.subplot(9,2,plotnum)\n",
    "        \n",
    "        # calculate the average data\n",
    "        behav = behavdata[behavdata.columns[counter]].to_numpy()\n",
    "        window_behav = []\n",
    "        for ele in stimstartidx:\n",
    "            window_behav += [behav[ele-(stimdur*fps):ele+(stimdur*fps*2)]]\n",
    "    \n",
    "        window_behav = np.array(window_behav)\n",
    "        avg_behav = np.average(window_behav, axis = 0)\n",
    "    \n",
    "        # plot the average data\n",
    "        plt.plot(avgtime,avg_behav, color = colors[k], alpha = 1)\n",
    "        if max(avg_behav) == 0 or max(avg_behav) == 1:\n",
    "            plt.ylim(0,1)\n",
    "            plt.gca().set_yticks([1], labels = [1])\n",
    "        else:\n",
    "            plt.ylim(0,max(avg_behav)+0.1)\n",
    "            plt.gca().set_yticks([max(avg_behav)+0.1], labels = [round(max(avg_behav)+0.1,1)])\n",
    "            \n",
    "        plt.gca().fill_between(avgtime, np.ones(2700),  where=stim[stimstartidx[0]-(stimdur*fps):stimstartidx[0]+(stimdur*fps*2)] > 0, facecolor='blue', alpha=.2)\n",
    "        if plotnum < 17:\n",
    "            plt.gca().set_xticks([])\n",
    "        else:\n",
    "            plt.gca().set_xticks([0,30,60,90], labels = [-30,0,30,60])\n",
    "        \n",
    "        sns.despine(bottom = True, left = True)        \n",
    "            \n",
    "        counter += 1   \n",
    "        plotnum += 1\n",
    "    \n",
    "    plt.gcf().set_size_inches(16,8)\n",
    "\n",
    "    if MouseID == 'BLIND':\n",
    "        plt.gcf().suptitle(\"Resident \"+BlindID+\": Day \"+day+\" Trial \"+trial, ha = 'left', x = 0.15, y = 0.92, fontsize = 16, fontweight = \"bold\")\n",
    "        plt.savefig(directory+BlindID+\"_D\"+day+\"Tr\"+trial+\".svg\", dpi = 500)\n",
    "        plt.savefig(directory+BlindID+\"_D\"+day+\"Tr\"+trial+\".png\", dpi = 500)\n",
    "        plt.clf()\n",
    "        \n",
    "    else:\n",
    "        plt.gcf().suptitle(Type+\" Resident \"+MouseID+\" \"+BlindID+\": Day \"+day+\" Trial \"+trial, ha = 'left', x = 0.15, y = 0.92, fontsize = 16, fontweight = \"bold\")\n",
    "        plt.savefig(directory+Type+\"_\"+MouseID+\"_\"+BlindID+\"D\"+day+\"Tr\"+trial+\".svg\", dpi = 500)\n",
    "        plt.savefig(directory+Type+\"_\"+MouseID+\"_\"+BlindID+\"D\"+day+\"Tr\"+trial+\".png\", dpi = 500)\n",
    "        plt.clf()\n"
   ]
  }
 ],
 "metadata": {
  "kernelspec": {
   "display_name": "Python 3 (ipykernel)",
   "language": "python",
   "name": "python3"
  },
  "language_info": {
   "codemirror_mode": {
    "name": "ipython",
    "version": 3
   },
   "file_extension": ".py",
   "mimetype": "text/x-python",
   "name": "python",
   "nbconvert_exporter": "python",
   "pygments_lexer": "ipython3",
   "version": "3.11.4"
  }
 },
 "nbformat": 4,
 "nbformat_minor": 5
}
